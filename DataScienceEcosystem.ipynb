{
 "cells": [
  {
   "cell_type": "markdown",
   "id": "e2553eb0-afbe-439f-8d0b-5f31de8409e8",
   "metadata": {},
   "source": [
    "# Data Science Tools and Ecosystem"
   ]
  },
  {
   "cell_type": "markdown",
   "id": "2bd1a40c-8476-40d5-a7f9-75056b94753e",
   "metadata": {},
   "source": [
    "In this notebook, Data Science Tools and Ecosystem are summarized."
   ]
  },
  {
   "cell_type": "markdown",
   "id": "777d9008-caad-46ca-a40d-c9e6759d35b1",
   "metadata": {},
   "source": [
    "Some of the popular languages that Data Scientists use are:\n",
    "1. python\n",
    "2.  R\n",
    "3.  Julia"
   ]
  },
  {
   "cell_type": "markdown",
   "id": "2177d3ca-62a8-4557-90b3-0e8d9545b004",
   "metadata": {},
   "source": [
    "Some of the commonly used libraries used by Data Scientists include:\n",
    "1. Matplotlib\n",
    "2. Plotly\n",
    "3. NumPy\n",
    "4. Pandas"
   ]
  },
  {
   "cell_type": "markdown",
   "id": "a8f4cd9a-e4ca-4a45-b211-7ee536777d60",
   "metadata": {},
   "source": [
    "|Data Science Tools|\n",
    "|------------------|\n",
    "|JupyterLab|\n",
    "|VS Code|\n",
    "|RStudio|\n"
   ]
  },
  {
   "cell_type": "markdown",
   "id": "11322cd6-a8d4-4127-a0ab-ad346d6ed027",
   "metadata": {},
   "source": [
    "### Below are a few examples of evaluating arithmetic expressions in Python"
   ]
  },
  {
   "cell_type": "code",
   "execution_count": 1,
   "id": "7c862d70-0b4a-40e9-8787-be7f134ea286",
   "metadata": {},
   "outputs": [
    {
     "data": {
      "text/plain": [
       "17"
      ]
     },
     "execution_count": 1,
     "metadata": {},
     "output_type": "execute_result"
    }
   ],
   "source": [
    "# This a simple arithmetic expression to mutiply then add integers\n",
    "(3*4)+5"
   ]
  },
  {
   "cell_type": "code",
   "execution_count": 3,
   "id": "19c4356c-4552-4de0-960b-6c68d701e408",
   "metadata": {},
   "outputs": [
    {
     "data": {
      "text/plain": [
       "3.3333333333333335"
      ]
     },
     "execution_count": 3,
     "metadata": {},
     "output_type": "execute_result"
    }
   ],
   "source": [
    "# This will convert 200 minutes to hours by diving by 60\n",
    "200/60"
   ]
  },
  {
   "cell_type": "markdown",
   "id": "23dfd793-9329-45ff-9863-5171c5cf451a",
   "metadata": {},
   "source": [
    "**Objectives:**\n",
    "- List popular languages for Data Science\n",
    "- List popular libraries for Data Science\n",
    "- List popular tools for Data Science"
   ]
  },
  {
   "cell_type": "markdown",
   "id": "2c9167de-7041-4ae5-b863-2dc8ef459c12",
   "metadata": {},
   "source": [
    "## Author\n",
    "Kornel Wawrzyniuk"
   ]
  }
 ],
 "metadata": {
  "kernelspec": {
   "display_name": "Python 3 (ipykernel)",
   "language": "python",
   "name": "python3"
  },
  "language_info": {
   "codemirror_mode": {
    "name": "ipython",
    "version": 3
   },
   "file_extension": ".py",
   "mimetype": "text/x-python",
   "name": "python",
   "nbconvert_exporter": "python",
   "pygments_lexer": "ipython3",
   "version": "3.12.7"
  }
 },
 "nbformat": 4,
 "nbformat_minor": 5
}
